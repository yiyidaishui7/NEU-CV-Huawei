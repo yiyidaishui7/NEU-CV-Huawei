{
 "cells": [
  {
   "cell_type": "code",
   "execution_count": 2,
   "metadata": {
    "ExecuteTime": {
     "end_time": "2024-05-22T06:44:01.750927Z",
     "start_time": "2024-05-22T06:42:20.176481Z"
    }
   },
   "outputs": [
    {
     "name": "stderr",
     "output_type": "stream",
     "text": [
      "[WARNING] ME(13430:140704315207936,MainProcess):2024-05-22-14:44:01.553.804 [mindspore/dataset/core/validator_helpers.py:744] 'Resize' from mindspore.dataset.vision.c_transforms is deprecated from version 1.8 and will be removed in a future version. Use 'Resize' from mindspore.dataset.vision instead.\n",
      "[WARNING] ME(13430:140704315207936,MainProcess):2024-05-22-14:44:01.579.999 [mindspore/dataset/core/validator_helpers.py:744] 'Rescale' from mindspore.dataset.vision.c_transforms is deprecated from version 1.8 and will be removed in a future version. Use 'Rescale' from mindspore.dataset.vision instead.\n",
      "[WARNING] ME(13430:140704315207936,MainProcess):2024-05-22-14:44:01.582.826 [mindspore/dataset/core/validator_helpers.py:744] 'Rescale' from mindspore.dataset.vision.c_transforms is deprecated from version 1.8 and will be removed in a future version. Use 'Rescale' from mindspore.dataset.vision instead.\n",
      "[WARNING] ME(13430:140704315207936,MainProcess):2024-05-22-14:44:01.584.986 [mindspore/dataset/core/validator_helpers.py:744] 'HWC2CHW' from mindspore.dataset.vision.c_transforms is deprecated from version 1.8 and will be removed in a future version. Use 'HWC2CHW' from mindspore.dataset.vision instead.\n",
      "[WARNING] ME(13430:140704315207936,MainProcess):2024-05-22-14:44:01.589.279 [mindspore/dataset/core/validator_helpers.py:744] 'Resize' from mindspore.dataset.vision.c_transforms is deprecated from version 1.8 and will be removed in a future version. Use 'Resize' from mindspore.dataset.vision instead.\n",
      "[WARNING] ME(13430:140704315207936,MainProcess):2024-05-22-14:44:01.591.782 [mindspore/dataset/core/validator_helpers.py:744] 'Rescale' from mindspore.dataset.vision.c_transforms is deprecated from version 1.8 and will be removed in a future version. Use 'Rescale' from mindspore.dataset.vision instead.\n",
      "[WARNING] ME(13430:140704315207936,MainProcess):2024-05-22-14:44:01.593.165 [mindspore/dataset/core/validator_helpers.py:744] 'Rescale' from mindspore.dataset.vision.c_transforms is deprecated from version 1.8 and will be removed in a future version. Use 'Rescale' from mindspore.dataset.vision instead.\n",
      "[WARNING] ME(13430:140704315207936,MainProcess):2024-05-22-14:44:01.594.483 [mindspore/dataset/core/validator_helpers.py:744] 'HWC2CHW' from mindspore.dataset.vision.c_transforms is deprecated from version 1.8 and will be removed in a future version. Use 'HWC2CHW' from mindspore.dataset.vision instead.\n"
     ]
    }
   ],
   "source": [
    "from mindvision.dataset import Mnist\n",
    "\n",
    "# 下载并处理MNIST数据集\n",
    "# #下载train数据集储存在./mnist路径下，并resize成32x32\n",
    "download_train = Mnist(path=\"./mnist\", split=\"train\", batch_size=32, repeat_num=1, shuffle=True, resize=32, download=True)\n",
    "#下载test数据集储存在./mnist路径下，并resize成32x32\n",
    "download_eval = Mnist(path=\"./mnist\", split=\"test\", batch_size=32, resize=32, download=True)\n",
    "\n",
    "dataset_train = download_train.run()\n",
    "dataset_eval = download_eval.run()"
   ]
  },
  {
   "cell_type": "code",
   "execution_count": 3,
   "metadata": {
    "ExecuteTime": {
     "end_time": "2024-05-22T06:46:55.737927Z",
     "start_time": "2024-05-22T06:46:55.662893Z"
    }
   },
   "outputs": [],
   "source": [
    "# 参数说明：\n",
    "# \n",
    "# - path：数据集路径。\n",
    "# - split：数据集类型，支持train、 test、infer，默认为train。\n",
    "# - batch_size：每个训练批次设定的数据大小，默认为32。\n",
    "# - repeat_num：训练时遍历数据集的次数，默认为1。\n",
    "# - shuffle：是否需要将数据集随机打乱（可选参数）。\n",
    "# - resize：输出图像的图像大小，默认为32*32。\n",
    "# - download：是否需要下载数据集，默认为False。\n",
    "# \n",
    "# 下载的数据集文件的目录结构如下：\n",
    "# \n",
    "# ```text\n",
    "# ./mnist/\n",
    "# ├── test\n",
    "# │   ├── t10k-images-idx3-ubyte\n",
    "# │   └── t10k-labels-idx1-ubyte\n",
    "# └── train\n",
    "#     ├── train-images-idx3-ubyte\n",
    "#     └── train-labels-idx1-ubyte\n",
    "# ```"
   ]
  },
  {
   "cell_type": "code",
   "execution_count": 4,
   "metadata": {
    "ExecuteTime": {
     "end_time": "2024-05-22T06:47:03.357520Z",
     "start_time": "2024-05-22T06:47:02.680136Z"
    }
   },
   "outputs": [],
   "source": [
    "from mindvision.classification.models import lenet\n",
    "#定义网络模型lenet，设置num_classes=10\n",
    "network = lenet(num_classes=10, pretrained=False)"
   ]
  },
  {
   "cell_type": "code",
   "execution_count": 5,
   "metadata": {
    "ExecuteTime": {
     "end_time": "2024-05-22T06:47:06.391483Z",
     "start_time": "2024-05-22T06:47:06.282367Z"
    }
   },
   "outputs": [],
   "source": [
    "import mindspore.nn as nn\n",
    "\n",
    "# 定义损失函数SoftmaxCrossEntropyWithLogits\n",
    "net_loss = nn.SoftmaxCrossEntropyWithLogits(sparse=True, reduction='mean')\n",
    "\n",
    "# 定义优化器函数Momentum\n",
    "net_opt = nn.Momentum(network.trainable_params(), learning_rate=0.01, momentum=0.9)"
   ]
  },
  {
   "cell_type": "code",
   "execution_count": 6,
   "metadata": {
    "ExecuteTime": {
     "end_time": "2024-05-22T06:47:13.356788Z",
     "start_time": "2024-05-22T06:47:13.205719Z"
    }
   },
   "outputs": [],
   "source": [
    "# ## 训练及保存模型\n",
    "#\n",
    "# 在开始训练之前，MindSpore需要提前声明网络模型在训练过程中是否需要保存中间过程和结果，因此使用`ModelCheckpoint`接口用于保存网络模型和参数，以便进行后续的Fine-tuning（微调）操作。\n"
   ]
  },
  {
   "cell_type": "code",
   "execution_count": 7,
   "metadata": {
    "ExecuteTime": {
     "end_time": "2024-05-22T06:47:17.665035Z",
     "start_time": "2024-05-22T06:47:17.393799Z"
    }
   },
   "outputs": [],
   "source": [
    "from mindspore.train.callback import ModelCheckpoint, CheckpointConfig\n",
    "\n",
    "# 设置模型保存参数，模型训练保存参数的step为1875\n",
    "config_ck = CheckpointConfig(save_checkpoint_steps=1875, keep_checkpoint_max=10)\n",
    "\n",
    "# 应用模型保存参数\n",
    "ckpoint = ModelCheckpoint(prefix=\"lenet\", directory=\"./lenet\", config=config_ck)\n",
    "\n",
    "\n",
    "# 通过MindSpore提供的`model.train`接口可以方便地进行网络的训练，`LossMonitor`可以监控训练过程中`loss`值的变化。"
   ]
  },
  {
   "cell_type": "code",
   "execution_count": 8,
   "metadata": {
    "ExecuteTime": {
     "end_time": "2024-05-22T07:05:43.190348Z",
     "start_time": "2024-05-22T06:47:21.762491Z"
    }
   },
   "outputs": [
    {
     "name": "stdout",
     "output_type": "stream",
     "text": [
      "Epoch:[  0/ 10], step:[ 1875/ 1875], loss:[0.086/0.328], time:213.262 ms, lr:0.01000\n",
      "Epoch time: 115295.379 ms, per step time: 61.491 ms, avg loss: 0.328\n",
      "Epoch:[  1/ 10], step:[ 1875/ 1875], loss:[0.027/0.057], time:174.585 ms, lr:0.01000\n",
      "Epoch time: 83701.283 ms, per step time: 44.641 ms, avg loss: 0.057\n",
      "Epoch:[  2/ 10], step:[ 1875/ 1875], loss:[0.003/0.042], time:1167.318 ms, lr:0.01000\n",
      "Epoch time: 280866.751 ms, per step time: 149.796 ms, avg loss: 0.042\n",
      "Epoch:[  3/ 10], step:[ 1875/ 1875], loss:[0.000/0.032], time:105.085 ms, lr:0.01000\n",
      "Epoch time: 193612.064 ms, per step time: 103.260 ms, avg loss: 0.032\n",
      "Epoch:[  4/ 10], step:[ 1875/ 1875], loss:[0.001/0.025], time:85.038 ms, lr:0.01000\n",
      "Epoch time: 74405.312 ms, per step time: 39.683 ms, avg loss: 0.025\n",
      "Epoch:[  5/ 10], step:[ 1875/ 1875], loss:[0.022/0.022], time:56.781 ms, lr:0.01000\n",
      "Epoch time: 106359.699 ms, per step time: 56.725 ms, avg loss: 0.022\n",
      "Epoch:[  6/ 10], step:[ 1875/ 1875], loss:[0.020/0.020], time:62.518 ms, lr:0.01000\n",
      "Epoch time: 66052.828 ms, per step time: 35.228 ms, avg loss: 0.020\n",
      "Epoch:[  7/ 10], step:[ 1875/ 1875], loss:[0.022/0.017], time:74.840 ms, lr:0.01000\n",
      "Epoch time: 67873.904 ms, per step time: 36.199 ms, avg loss: 0.017\n",
      "Epoch:[  8/ 10], step:[ 1875/ 1875], loss:[0.000/0.015], time:41.780 ms, lr:0.01000\n",
      "Epoch time: 66845.166 ms, per step time: 35.651 ms, avg loss: 0.015\n",
      "Epoch:[  9/ 10], step:[ 1875/ 1875], loss:[0.001/0.016], time:49.786 ms, lr:0.01000\n",
      "Epoch time: 45212.385 ms, per step time: 24.113 ms, avg loss: 0.016\n"
     ]
    }
   ],
   "source": [
    "from mindvision.engine.callback import LossMonitor\n",
    "from mindspore.train import Model\n",
    "# 初始化模型参数\n",
    "model = Model(network, loss_fn=net_loss, optimizer=net_opt, metrics={'accuracy'})\n",
    "# 训练网络模型，并保存为lenet-1_1875.ckpt文件\n",
    "model.train(10, dataset_train, callbacks=[ckpoint, LossMonitor(0.01, 1875)])\n",
    "# 训练过程中会打印loss值，loss值会波动，但总体来说loss值会逐步减小，精度逐步提高。每个人运行的loss值有一定随机性，不一定完全相同。\n",
    "#\n",
    "# 通过模型运行测试数据集得到的结果，验证模型的泛化能力：\n",
    "#\n",
    "# 1. 使用`model.eval`接口读入测试数据集。\n",
    "# 2. 使用保存后的模型参数进行推理。"
   ]
  },
  {
   "cell_type": "code",
   "execution_count": 10,
   "metadata": {
    "ExecuteTime": {
     "end_time": "2024-05-22T07:09:16.089181Z",
     "start_time": "2024-05-22T07:09:08.764752Z"
    }
   },
   "outputs": [
    {
     "name": "stdout",
     "output_type": "stream",
     "text": [
      "{'accuracy': 0.9889823717948718}\n"
     ]
    }
   ],
   "source": [
    "#使用`model.eval`接口读入测试数据集。\n",
    "acc = model.eval(dataset_eval)\n",
    "#accuracy打印输出\n",
    "print(\"{}\".format(acc))\n",
    "\n",
    "\n",
    "# 可以在打印信息中看出模型精度数据，示例中精度数据达到95%以上，模型质量良好。随着网络迭代次数增加，模型精度会进一步提高。\n",
    "#\n",
    "# ## 加载模型"
   ]
  },
  {
   "cell_type": "code",
   "execution_count": 11,
   "metadata": {
    "ExecuteTime": {
     "end_time": "2024-05-22T07:09:21.819651Z",
     "start_time": "2024-05-22T07:09:21.123514Z"
    }
   },
   "outputs": [
    {
     "data": {
      "text/plain": "([],\n ['global_step',\n  'learning_rate',\n  'momentum',\n  'moments.backbone.conv1.weight',\n  'moments.backbone.conv2.weight',\n  'moments.backbone.fc1.weight',\n  'moments.backbone.fc1.bias',\n  'moments.backbone.fc2.weight',\n  'moments.backbone.fc2.bias',\n  'moments.backbone.fc3.weight',\n  'moments.backbone.fc3.bias'])"
     },
     "execution_count": 11,
     "metadata": {},
     "output_type": "execute_result"
    }
   ],
   "source": [
    "from mindspore import load_checkpoint, load_param_into_net\n",
    "\n",
    "# 加载已经保存的用于测试的模型\n",
    "param_dict = load_checkpoint(\"./lenet/lenet-1_1875.ckpt\")\n",
    "# 加载参数到网络中\n",
    "load_param_into_net(network, param_dict)\n",
    "\n",
    "\n",
    "# > 阅读更多有关[加载模型](https://www.mindspore.cn/tutorials/zh-CN/r1.7/beginner/save_load.html#加载模型)的信息。\n",
    "#\n"
   ]
  },
  {
   "cell_type": "code",
   "execution_count": 12,
   "metadata": {
    "ExecuteTime": {
     "end_time": "2024-05-22T07:10:55.424307Z",
     "start_time": "2024-05-22T07:09:28.008144Z"
    }
   },
   "outputs": [
    {
     "name": "stderr",
     "output_type": "stream",
     "text": [
      "Python(14680) MallocStackLogging: can't turn off malloc stack logging because it was not enabled.\n",
      "Python(14683) MallocStackLogging: can't turn off malloc stack logging because it was not enabled.\n",
      "Python(14684) MallocStackLogging: can't turn off malloc stack logging because it was not enabled.\n",
      "Matplotlib is building the font cache; this may take a moment.\n",
      "[WARNING] ME(13430:140704315207936,MainProcess):2024-05-22-15:10:52.633.784 [mindspore/dataset/core/validator_helpers.py:744] 'Resize' from mindspore.dataset.vision.c_transforms is deprecated from version 1.8 and will be removed in a future version. Use 'Resize' from mindspore.dataset.vision instead.\n",
      "[WARNING] ME(13430:140704315207936,MainProcess):2024-05-22-15:10:52.668.847 [mindspore/dataset/core/validator_helpers.py:744] 'Rescale' from mindspore.dataset.vision.c_transforms is deprecated from version 1.8 and will be removed in a future version. Use 'Rescale' from mindspore.dataset.vision instead.\n",
      "[WARNING] ME(13430:140704315207936,MainProcess):2024-05-22-15:10:52.675.269 [mindspore/dataset/core/validator_helpers.py:744] 'Rescale' from mindspore.dataset.vision.c_transforms is deprecated from version 1.8 and will be removed in a future version. Use 'Rescale' from mindspore.dataset.vision instead.\n",
      "[WARNING] ME(13430:140704315207936,MainProcess):2024-05-22-15:10:52.678.354 [mindspore/dataset/core/validator_helpers.py:744] 'HWC2CHW' from mindspore.dataset.vision.c_transforms is deprecated from version 1.8 and will be removed in a future version. Use 'HWC2CHW' from mindspore.dataset.vision instead.\n"
     ]
    },
    {
     "data": {
      "text/plain": "<Figure size 640x480 with 6 Axes>",
      "image/png": "[encoded data removed]"
     },
     "metadata": {},
     "output_type": "display_data"
    },
    {
     "name": "stdout",
     "output_type": "stream",
     "text": [
      "Predicted: \"[4 8 5 6 5 1]\", Actual: \"[4 8 5 6 5 1]\"\n"
     ]
    }
   ],
   "source": [
    "# ## 验证模型\n",
    "#\n",
    "# 我们使用生成的模型进行单个图片数据的分类预测，具体步骤如下：\n",
    "#\n",
    "# > - 被预测的图片会随机生成，每次运行结果可能会不一样。\n",
    "# > - 代码使用了Tensor模块，阅读更多有关[张量Tensor](https://www.mindspore.cn/tutorials/zh-CN/r1.7/beginner/tensor.html)的信息。\n",
    "\n",
    "import numpy as np\n",
    "from mindspore import Tensor\n",
    "import matplotlib.pyplot as plt\n",
    "\n",
    "mnist = Mnist(\"./mnist\", split=\"train\", batch_size=6, resize=32)\n",
    "dataset_infer = mnist.run()\n",
    "ds_test = dataset_infer.create_dict_iterator()\n",
    "data = next(ds_test)\n",
    "images = data[\"image\"].asnumpy()\n",
    "labels = data[\"label\"].asnumpy()\n",
    "\n",
    "#图片输出\n",
    "plt.figure()\n",
    "for i in range(1, 7):\n",
    "    plt.subplot(2, 3, i)\n",
    "    plt.imshow(images[i-1][0], interpolation=\"None\", cmap=\"gray\")\n",
    "plt.show()\n",
    "\n",
    "# 使用函数model.predict预测image对应分类\n",
    "output = model.predict(Tensor(data['image']))\n",
    "predicted = np.argmax(output.asnumpy(), axis=1)\n",
    "\n",
    "# 输出预测分类与实际分类\n",
    "print(f'Predicted: \"{predicted}\", Actual: \"{labels}\"')\n",
    "\n",
    "\n",
    "# 从上面的打印结果可以看出，预测值与目标值完全一致。\n"
   ]
  },
  {
   "cell_type": "code",
   "execution_count": null,
   "outputs": [],
   "source": [],
   "metadata": {
    "collapsed": false
   }
  }
 ],
 "metadata": {
  "kernelspec": {
   "display_name": "liuxiaolong",
   "language": "python",
   "name": "python3"
  },
  "language_info": {
   "codemirror_mode": {
    "name": "ipython",
    "version": 3
   },
   "file_extension": ".py",
   "mimetype": "text/x-python",
   "name": "python",
   "nbconvert_exporter": "python",
   "pygments_lexer": "ipython3",
   "version": "3.7.16"
  },
  "orig_nbformat": 4
 },
 "nbformat": 4,
 "nbformat_minor": 2
}
